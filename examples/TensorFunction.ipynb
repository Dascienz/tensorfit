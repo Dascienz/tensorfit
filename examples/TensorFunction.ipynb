{
 "cells": [
  {
   "cell_type": "markdown",
   "metadata": {},
   "source": [
    "# TensorFunction"
   ]
  },
  {
   "cell_type": "code",
   "execution_count": 1,
   "metadata": {},
   "outputs": [
    {
     "name": "stdout",
     "output_type": "stream",
     "text": [
      "WARNING:tensorflow:From /Users/dascienz/anaconda/envs/TensorFit/lib/python3.7/site-packages/tensorflow_core/python/compat/v2_compat.py:65: disable_resource_variables (from tensorflow.python.ops.variable_scope) is deprecated and will be removed in a future version.\n",
      "Instructions for updating:\n",
      "non-resource variables are not supported in the long term\n"
     ]
    }
   ],
   "source": [
    "import collections\n",
    "import numpy as np\n",
    "import pandas as pd\n",
    "import tensorflow as tf\n",
    "if not hasattr(tf, \"placeholder\"):\n",
    "    import tensorflow.compat.v1 as tf\n",
    "    tf.disable_v2_behavior()"
   ]
  },
  {
   "cell_type": "code",
   "execution_count": 39,
   "metadata": {},
   "outputs": [],
   "source": [
    "class TensorFunction(object):\n",
    "\n",
    "    def __init__(self, *args, **kwargs) -> None:\n",
    "        \"\"\" Initialize TensorFunction class. \"\"\"\n",
    "        self.Fitted = False\n",
    "        self.Function = None\n",
    "        self.X = tf.placeholder(dtype=tf.float32)\n",
    "        self.Y = tf.placeholder(dtype=tf.float32)\n",
    "        self.Params = {}\n",
    "    \n",
    "    def _set_parameters(self, params: str) -> None:\n",
    "        \"\"\" Dynamically set function parameters. \"\"\"\n",
    "        variable_code = \"self.{0} = tf.Variable({1}, name='{0}', dtype=tf.float32)\"\n",
    "        for k, v in params.items():\n",
    "            byte_code = compile(variable_code.format(k, v), filename=\"<inline code>\", mode=\"exec\")\n",
    "            exec(byte_code)\n",
    "        return\n",
    "    \n",
    "    def _set_function(self, func: str) -> None:\n",
    "        \"\"\" Dynamically set TensorFunction. \"\"\"\n",
    "        function_code = \"self.Function = {0}\"\n",
    "        byte_code = compile(function_code.format(func), filename=\"<inline code>\", mode=\"exec\")\n",
    "        exec(byte_code)\n",
    "        return\n",
    "    \n",
    "    def initialize(self, func: str, params: dict) -> object:\n",
    "        \"\"\" Initialize Function Parameters. \"\"\"\n",
    "        if self.Function is not None:\n",
    "            raise TypeError(\"TensorFunction has already been initialized. Please reset before initializing again.\")\n",
    "        if not params:\n",
    "            raise ValueError(\"params cannot be an empty dict.\")\n",
    "        if not self.Fitted:\n",
    "            self._set_parameters(params)\n",
    "        if not self.Function:\n",
    "            self._set_function(func)\n",
    "            if self.Function is None:\n",
    "                raise ValueError(\"self.Function is NoneType.\")\n",
    "        return self\n",
    "    \n",
    "    def reset(self) -> object:\n",
    "        \"\"\" Reset attributes. \"\"\"\n",
    "        for k, v in self.__dict__.copy().items():\n",
    "            if isinstance(v, tf.Variable):\n",
    "                del self.__dict__[k]\n",
    "                \n",
    "        self.Fitted = False\n",
    "        self.Function = None\n",
    "        self.X = tf.placeholder(dtype=tf.float32)\n",
    "        self.Y = tf.placeholder(dtype=tf.float32)\n",
    "        self.Params = {}\n",
    "        return self \n",
    "\n",
    "    def fit(self, x: np.ndarray, y: np.ndarray, metric: str = \"mse\", learning_rate: float = 0.01, \n",
    "            num_rounds: int = 100, early_stopping_rounds: int = 0, verbose_eval: int = 0, \n",
    "            random_state: int = 0) -> object:\n",
    "        \"\"\" Fit TensorFunction to array-like data. \"\"\"\n",
    "        np.random.seed(int(random_state))\n",
    "        try:\n",
    "            x = np.array(x, dtype=np.float32)\n",
    "            y = np.array(y, dtype=np.float32)\n",
    "            assert x.ndim == y.ndim == 1\n",
    "            assert x.shape[0] == y.shape[0]\n",
    "        except Exception as e:\n",
    "            raise ValueError(\"x and y must be array-like objects: {0}\".format(e))\n",
    "            \n",
    "        if self.Function is None:\n",
    "            raise ValueError(\"TensorFunction has not been initialized. Please initialize before fitting.\")\n",
    "            \n",
    "        if metric == \"mse\":\n",
    "            loss = tf.reduce_mean(tf.square(self.Y - self.Function))\n",
    "        else:\n",
    "            raise ValueError(\"'{0}' is not a valid error metric.\".format(metric))\n",
    "            \n",
    "        train = tf.train.GradientDescentOptimizer(learning_rate).minimize(loss)\n",
    "        \n",
    "        if 1 < int(early_stopping_rounds) < 1000:\n",
    "            print(\"Fitting until error does not improve for {0} rounds.\".format(int(early_stopping_rounds)))\n",
    "            error_rounds = collections.deque(maxlen=int(early_stopping_rounds))\n",
    "        else:\n",
    "            error_rounds = None\n",
    "            \n",
    "        with tf.Session() as sess:\n",
    "            tf.global_variables_initializer().run()\n",
    "            for episode in range(int(num_rounds)):\n",
    "                for (i, j) in zip(x, y):\n",
    "                    sess.run(train, feed_dict={self.X: i, self.Y: j})\n",
    "                error = sess.run(loss, feed_dict={self.X: i, self.Y: j})\n",
    "                if verbose_eval > 0 and episode % verbose_eval == 0:\n",
    "                    print(\"[Episode - {0}] {1}: {2:,.8f}\".format(episode + 1, metric, error))\n",
    "                if error_rounds is not None:\n",
    "                    error_rounds.append(error)\n",
    "                    if len(error_rounds) == int(early_stopping_rounds):\n",
    "                        if all(e == error_rounds[0] for e in error_rounds):\n",
    "                            print(\"Early stopping, best iteration is:\")\n",
    "                            print(\"[Episode - {0}] {1}: {2:,.8f}\".format((episode + 1) - int(early_stopping_rounds), metric, error))\n",
    "                            break\n",
    "            for k, v in self.__dict__.copy().items():\n",
    "                if isinstance(v, tf.Variable):\n",
    "                    self.Params[k] = sess.run(v)\n",
    "        self.fitted = True\n",
    "        return self"
   ]
  },
  {
   "cell_type": "code",
   "execution_count": 40,
   "metadata": {},
   "outputs": [],
   "source": [
    "tfunc = TensorFunction()"
   ]
  },
  {
   "cell_type": "code",
   "execution_count": 41,
   "metadata": {},
   "outputs": [],
   "source": [
    "tfunc.initialize(\n",
    "    func=\"self.Function = tf.add(tf.multiply(self.m, self.X), self.b)\", \n",
    "    params=dict(m=0., b=0.)\n",
    ");"
   ]
  },
  {
   "cell_type": "code",
   "execution_count": 42,
   "metadata": {},
   "outputs": [
    {
     "name": "stdout",
     "output_type": "stream",
     "text": [
      "Fitting until error does not improve for 10 rounds.\n",
      "[Episode - 1] mse: 4.46380854\n",
      "[Episode - 2] mse: 1.08609748\n",
      "[Episode - 3] mse: 0.31144872\n",
      "[Episode - 4] mse: 0.10223599\n",
      "[Episode - 5] mse: 0.03982750\n",
      "[Episode - 6] mse: 0.01920754\n",
      "[Episode - 7] mse: 0.01157801\n",
      "[Episode - 8] mse: 0.00843569\n",
      "[Episode - 9] mse: 0.00702849\n",
      "[Episode - 10] mse: 0.00636197\n",
      "[Episode - 11] mse: 0.00603576\n",
      "[Episode - 12] mse: 0.00587327\n",
      "[Episode - 13] mse: 0.00579163\n",
      "[Episode - 14] mse: 0.00575011\n",
      "[Episode - 15] mse: 0.00572938\n",
      "[Episode - 16] mse: 0.00571870\n",
      "[Episode - 17] mse: 0.00571329\n",
      "[Episode - 18] mse: 0.00571048\n",
      "[Episode - 19] mse: 0.00570911\n",
      "[Episode - 20] mse: 0.00570832\n",
      "[Episode - 21] mse: 0.00570774\n",
      "[Episode - 22] mse: 0.00570753\n",
      "[Episode - 23] mse: 0.00570745\n",
      "[Episode - 24] mse: 0.00570738\n",
      "[Episode - 25] mse: 0.00570738\n",
      "[Episode - 26] mse: 0.00570731\n",
      "[Episode - 27] mse: 0.00570724\n",
      "[Episode - 28] mse: 0.00570724\n",
      "[Episode - 29] mse: 0.00570717\n",
      "[Episode - 30] mse: 0.00570717\n",
      "[Episode - 31] mse: 0.00570717\n",
      "[Episode - 32] mse: 0.00570717\n",
      "[Episode - 33] mse: 0.00570717\n",
      "[Episode - 34] mse: 0.00570717\n",
      "[Episode - 35] mse: 0.00570717\n",
      "[Episode - 36] mse: 0.00570717\n",
      "[Episode - 37] mse: 0.00570717\n",
      "[Episode - 38] mse: 0.00570717\n",
      "Early stopping, best iteration is:\n",
      "[Episode - 28] mse: 0.00570717\n"
     ]
    },
    {
     "data": {
      "text/plain": [
       "<__main__.TensorFunction at 0x645f00fd0>"
      ]
     },
     "execution_count": 42,
     "metadata": {},
     "output_type": "execute_result"
    }
   ],
   "source": [
    "X = np.linspace(-1, 1, 100)\n",
    "y = 5. * X + 0.33 * np.random.randn(*X.shape)\n",
    "tfunc.fit(X, y, verbose_eval=1, early_stopping_rounds=10)"
   ]
  },
  {
   "cell_type": "code",
   "execution_count": 43,
   "metadata": {},
   "outputs": [
    {
     "data": {
      "text/plain": [
       "{'m': 5.0388403, 'b': 0.018270273}"
      ]
     },
     "execution_count": 43,
     "metadata": {},
     "output_type": "execute_result"
    }
   ],
   "source": [
    "tfunc.Params"
   ]
  },
  {
   "cell_type": "code",
   "execution_count": 8,
   "metadata": {},
   "outputs": [],
   "source": [
    "x = np.linspace(0, 10, 100)"
   ]
  },
  {
   "cell_type": "code",
   "execution_count": 13,
   "metadata": {},
   "outputs": [],
   "source": [
    "y = 8 * np.sin(x) * np.cos(x) + 0.45 * np.random.randn(*x.shape)"
   ]
  },
  {
   "cell_type": "code",
   "execution_count": 11,
   "metadata": {},
   "outputs": [
    {
     "data": {
      "text/plain": [
       "array([ 0.        ,  0.1010101 ,  0.2020202 ,  0.3030303 ,  0.4040404 ,\n",
       "        0.50505051,  0.60606061,  0.70707071,  0.80808081,  0.90909091,\n",
       "        1.01010101,  1.11111111,  1.21212121,  1.31313131,  1.41414141,\n",
       "        1.51515152,  1.61616162,  1.71717172,  1.81818182,  1.91919192,\n",
       "        2.02020202,  2.12121212,  2.22222222,  2.32323232,  2.42424242,\n",
       "        2.52525253,  2.62626263,  2.72727273,  2.82828283,  2.92929293,\n",
       "        3.03030303,  3.13131313,  3.23232323,  3.33333333,  3.43434343,\n",
       "        3.53535354,  3.63636364,  3.73737374,  3.83838384,  3.93939394,\n",
       "        4.04040404,  4.14141414,  4.24242424,  4.34343434,  4.44444444,\n",
       "        4.54545455,  4.64646465,  4.74747475,  4.84848485,  4.94949495,\n",
       "        5.05050505,  5.15151515,  5.25252525,  5.35353535,  5.45454545,\n",
       "        5.55555556,  5.65656566,  5.75757576,  5.85858586,  5.95959596,\n",
       "        6.06060606,  6.16161616,  6.26262626,  6.36363636,  6.46464646,\n",
       "        6.56565657,  6.66666667,  6.76767677,  6.86868687,  6.96969697,\n",
       "        7.07070707,  7.17171717,  7.27272727,  7.37373737,  7.47474747,\n",
       "        7.57575758,  7.67676768,  7.77777778,  7.87878788,  7.97979798,\n",
       "        8.08080808,  8.18181818,  8.28282828,  8.38383838,  8.48484848,\n",
       "        8.58585859,  8.68686869,  8.78787879,  8.88888889,  8.98989899,\n",
       "        9.09090909,  9.19191919,  9.29292929,  9.39393939,  9.49494949,\n",
       "        9.5959596 ,  9.6969697 ,  9.7979798 ,  9.8989899 , 10.        ])"
      ]
     },
     "execution_count": 11,
     "metadata": {},
     "output_type": "execute_result"
    }
   ],
   "source": [
    "x"
   ]
  },
  {
   "cell_type": "code",
   "execution_count": 12,
   "metadata": {},
   "outputs": [
    {
     "data": {
      "text/plain": [
       "array([ 0.        ,  0.80259543,  1.57254645,  2.27853643,  2.89185025,\n",
       "        3.38754225,  3.7454509 ,  3.95101877,  3.99588469,  3.8782238 ,\n",
       "        3.60282178,  3.18088023,  2.62956099,  1.97128817,  1.23283607,\n",
       "        0.44424015, -0.36242459, -1.15434823, -1.89932044, -2.56704055,\n",
       "       -3.13035001, -3.56633703, -3.85726847, -3.99131111, -3.96301297,\n",
       "       -3.77352503, -3.43055444, -2.94805103, -2.34563993, -1.64782332,\n",
       "       -0.8829839 , -0.08223039,  0.72186773,  1.49660492,  2.21046988,\n",
       "        2.83442719,  3.34309829,  3.71579372,  3.93735463,  3.99876936,\n",
       "        3.89753996,  3.63778377,  3.23006602,  2.69097001,  2.04242271,\n",
       "        1.31080284,  0.52586795, -0.28045584, -1.0753725 , -1.82654995,\n",
       "       -2.50343513, -3.07849672, -3.52834493, -3.83468283, -3.98505057,\n",
       "       -3.97333217, -3.80000425, -3.47211668, -3.0030058 , -2.41175202,\n",
       "       -1.72240373, -0.96299917, -0.16442601,  0.64083493,  1.42003084,\n",
       "        2.14146906,  2.77580614,  3.29724133,  3.68456602,  3.92202633,\n",
       "        3.99996392,  3.91520879,  3.67120822,  3.27788659,  2.75124168,\n",
       "        2.11269401,  1.38821558,  0.60727349, -0.19836856, -0.99594226,\n",
       "       -1.75300745, -2.43877161, -3.02534228, -3.48886154, -3.81047642,\n",
       "       -3.97710571, -3.981972  , -3.82487736, -3.51221139, -3.05669132,\n",
       "       -2.47684476, -1.79625615, -1.04260742, -0.24655215,  0.55953127,\n",
       "        1.34285657,  2.07156313,  2.71601187,  3.24999076,  3.651781  ])"
      ]
     },
     "execution_count": 12,
     "metadata": {},
     "output_type": "execute_result"
    }
   ],
   "source": [
    "y"
   ]
  },
  {
   "cell_type": "code",
   "execution_count": null,
   "metadata": {},
   "outputs": [],
   "source": []
  }
 ],
 "metadata": {
  "kernelspec": {
   "display_name": "Python [conda env:TensorFit] *",
   "language": "python",
   "name": "conda-env-TensorFit-py"
  },
  "language_info": {
   "codemirror_mode": {
    "name": "ipython",
    "version": 3
   },
   "file_extension": ".py",
   "mimetype": "text/x-python",
   "name": "python",
   "nbconvert_exporter": "python",
   "pygments_lexer": "ipython3",
   "version": "3.7.9"
  }
 },
 "nbformat": 4,
 "nbformat_minor": 4
}
